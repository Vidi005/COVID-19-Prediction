{
  "nbformat": 4,
  "nbformat_minor": 0,
  "metadata": {
    "colab": {
      "name": "Untitled9.ipynb",
      "provenance": [],
      "authorship_tag": "ABX9TyPee0XIwdN/z0AInRmSMEFe",
      "include_colab_link": true
    },
    "kernelspec": {
      "name": "python3",
      "display_name": "Python 3"
    }
  },
  "cells": [
    {
      "cell_type": "markdown",
      "metadata": {
        "id": "view-in-github",
        "colab_type": "text"
      },
      "source": [
        "<a href=\"https://colab.research.google.com/github/Vidi005/COVID-19-Prediction/blob/master/Covid_19_Prediction.ipynb\" target=\"_parent\"><img src=\"https://colab.research.google.com/assets/colab-badge.svg\" alt=\"Open In Colab\"/></a>"
      ]
    },
    {
      "cell_type": "code",
      "metadata": {
        "id": "PWddFjl-I_AF",
        "colab_type": "code",
        "colab": {
          "base_uri": "https://localhost:8080/",
          "height": 34
        },
        "outputId": "67aa827f-118e-47a2-9e39-794d4429da0a"
      },
      "source": [
        "import pandas as pd\n",
        "from matplotlib import pyplot as plt\n",
        "\n",
        "from keras.models import Sequential\n",
        "from keras.layers import Dense"
      ],
      "execution_count": 4,
      "outputs": [
        {
          "output_type": "stream",
          "text": [
            "Using TensorFlow backend.\n"
          ],
          "name": "stderr"
        }
      ]
    },
    {
      "cell_type": "code",
      "metadata": {
        "id": "ZowSYBJ2LTOI",
        "colab_type": "code",
        "colab": {}
      },
      "source": [
        "!apt-get install subversion > /dev/null\n",
        "\n",
        "!svn export https://github.com/Vidi005/COVID-19-Prediction/trunk/datasets > /dev/null"
      ],
      "execution_count": 0,
      "outputs": []
    },
    {
      "cell_type": "code",
      "metadata": {
        "id": "Sa0t_KFBJJUV",
        "colab_type": "code",
        "colab": {}
      },
      "source": [
        "df = pd.read_csv('datasets/covid_19_data.csv',parse_dates=['Last Update'])\n",
        "df.rename(columns={'ObservationDate':'Date', 'Country/Region':'Country'}, inplace=True)\n",
        "df_date = df.groupby([\"Date\"])[['Confirmed', 'Deaths', 'Recovered']].sum().reset_index()"
      ],
      "execution_count": 0,
      "outputs": []
    },
    {
      "cell_type": "code",
      "metadata": {
        "id": "tafoI8oKJUsZ",
        "colab_type": "code",
        "colab": {}
      },
      "source": [
        "date_confirmed = df_date[['Date', 'Confirmed']]\n",
        "date_death = df_date[['Date', 'Deaths']]\n",
        "date_recovered = df_date[['Date', 'Recovered']]\n",
        "\n",
        "for index, row in date_confirmed.iterrows():\n",
        "  if row['Confirmed'] is None:\n",
        "    row['Confirmed'] = 0.0\n",
        "\n",
        "for index, row in date_death.iterrows():\n",
        "  if row['Deaths'] is None:\n",
        "    row['Deaths'] = 0.0\n",
        "\n",
        "for index, row in date_recovered.iterrows():\n",
        "  if row['Recovered'] is None:\n",
        "    row['Recovered'] = 0.0"
      ],
      "execution_count": 0,
      "outputs": []
    },
    {
      "cell_type": "code",
      "metadata": {
        "id": "gfbLWP-DJVNb",
        "colab_type": "code",
        "colab": {}
      },
      "source": [
        "model = Sequential()\n",
        "model.add(Dense(32, activation='relu', input_dim=1))\n",
        "model.add(Dense(32, activation='relu'))\n",
        "model.add(Dense(64, activation='relu'))\n",
        "model.add(Dense(64, activation='relu'))\n",
        "model.add(Dense(32, activation='relu'))\n",
        "model.add(Dense(1, activation='softmax'))\n",
        "model.compile(optimizer='adam', loss='binary_crossentropy', metrics=['accuracy'])"
      ],
      "execution_count": 0,
      "outputs": []
    },
    {
      "cell_type": "code",
      "metadata": {
        "id": "V0a1n5AWJc7k",
        "colab_type": "code",
        "colab": {
          "base_uri": "https://localhost:8080/",
          "height": 697
        },
        "outputId": "e0969536-1952-4360-fd93-3f34884d6c9c"
      },
      "source": [
        "model.fit(date_confirmed[\"Confirmed\"][:30],date_confirmed[\"Confirmed\"][:30],epochs=20,)\n",
        "prediction_cofirmed = model.predict(date_confirmed[\"Confirmed\"])\n",
        "final_prediction_confirmed = []\n",
        "for i in range(0,len(prediction_cofirmed)):\n",
        "  final_prediction_confirmed.append        (prediction_cofirmed[i]*date_confirmed[\"Confirmed\"][i])"
      ],
      "execution_count": 15,
      "outputs": [
        {
          "output_type": "stream",
          "text": [
            "Epoch 1/20\n",
            "30/30 [==============================] - 0s 144us/step - loss: -501786.3750 - accuracy: 0.0000e+00\n",
            "Epoch 2/20\n",
            "30/30 [==============================] - 0s 88us/step - loss: -501786.4062 - accuracy: 0.0000e+00\n",
            "Epoch 3/20\n",
            "30/30 [==============================] - 0s 107us/step - loss: -501786.4062 - accuracy: 0.0000e+00\n",
            "Epoch 4/20\n",
            "30/30 [==============================] - 0s 85us/step - loss: -501786.3438 - accuracy: 0.0000e+00\n",
            "Epoch 5/20\n",
            "30/30 [==============================] - 0s 74us/step - loss: -501786.3438 - accuracy: 0.0000e+00\n",
            "Epoch 6/20\n",
            "30/30 [==============================] - 0s 103us/step - loss: -501786.3750 - accuracy: 0.0000e+00\n",
            "Epoch 7/20\n",
            "30/30 [==============================] - 0s 92us/step - loss: -501786.3750 - accuracy: 0.0000e+00\n",
            "Epoch 8/20\n",
            "30/30 [==============================] - 0s 89us/step - loss: -501786.3438 - accuracy: 0.0000e+00\n",
            "Epoch 9/20\n",
            "30/30 [==============================] - 0s 108us/step - loss: -501786.3750 - accuracy: 0.0000e+00\n",
            "Epoch 10/20\n",
            "30/30 [==============================] - 0s 96us/step - loss: -501786.3750 - accuracy: 0.0000e+00\n",
            "Epoch 11/20\n",
            "30/30 [==============================] - 0s 84us/step - loss: -501786.3750 - accuracy: 0.0000e+00\n",
            "Epoch 12/20\n",
            "30/30 [==============================] - 0s 94us/step - loss: -501786.3438 - accuracy: 0.0000e+00\n",
            "Epoch 13/20\n",
            "30/30 [==============================] - 0s 127us/step - loss: -501786.3750 - accuracy: 0.0000e+00\n",
            "Epoch 14/20\n",
            "30/30 [==============================] - 0s 66us/step - loss: -501786.3750 - accuracy: 0.0000e+00\n",
            "Epoch 15/20\n",
            "30/30 [==============================] - 0s 61us/step - loss: -501786.3438 - accuracy: 0.0000e+00\n",
            "Epoch 16/20\n",
            "30/30 [==============================] - 0s 68us/step - loss: -501786.3750 - accuracy: 0.0000e+00\n",
            "Epoch 17/20\n",
            "30/30 [==============================] - 0s 70us/step - loss: -501786.3438 - accuracy: 0.0000e+00\n",
            "Epoch 18/20\n",
            "30/30 [==============================] - 0s 80us/step - loss: -501786.3750 - accuracy: 0.0000e+00\n",
            "Epoch 19/20\n",
            "30/30 [==============================] - 0s 74us/step - loss: -501786.3438 - accuracy: 0.0000e+00\n",
            "Epoch 20/20\n",
            "30/30 [==============================] - 0s 117us/step - loss: -501786.3750 - accuracy: 0.0000e+00\n"
          ],
          "name": "stdout"
        }
      ]
    },
    {
      "cell_type": "code",
      "metadata": {
        "id": "mWsKa9uKJgIx",
        "colab_type": "code",
        "colab": {
          "base_uri": "https://localhost:8080/",
          "height": 281
        },
        "outputId": "4d347e3d-a572-45b1-f7ec-1f4fbbd5b410"
      },
      "source": [
        "plt.title(\"Actual vs Prediction for Confirmed cases\")\n",
        "plt.plot(date_confirmed['Confirmed'][:30], label='Confirmed', color='blue')\n",
        "plt.plot(date_confirmed['Confirmed'][30:], label='Confirmed unknown', color='green')\n",
        "plt.plot(final_prediction_confirmed, label='Predicted', linestyle='dashed', color='orange')\n",
        "plt.legend()\n",
        "plt.show()"
      ],
      "execution_count": 16,
      "outputs": [
        {
          "output_type": "display_data",
          "data": {
            "image/png": "[encoded data removed]",
            "text/plain": [
              "<Figure size 432x288 with 1 Axes>"
            ]
          },
          "metadata": {
            "tags": [],
            "needs_background": "light"
          }
        }
      ]
    },
    {
      "cell_type": "code",
      "metadata": {
        "id": "fPZHVo7CJgk8",
        "colab_type": "code",
        "colab": {}
      },
      "source": [
        ""
      ],
      "execution_count": 0,
      "outputs": []
    }
  ]
}